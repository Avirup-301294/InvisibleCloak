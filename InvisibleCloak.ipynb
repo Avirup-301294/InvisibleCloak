{
 "cells": [
  {
   "cell_type": "code",
   "execution_count": 1,
   "metadata": {},
   "outputs": [],
   "source": [
    "import numpy as np"
   ]
  },
  {
   "cell_type": "code",
   "execution_count": 2,
   "metadata": {},
   "outputs": [],
   "source": [
    "import matplotlib.pyplot as plt"
   ]
  },
  {
   "cell_type": "code",
   "execution_count": 3,
   "metadata": {},
   "outputs": [],
   "source": [
    "# !pip install opencv-python"
   ]
  },
  {
   "cell_type": "code",
   "execution_count": 4,
   "metadata": {},
   "outputs": [],
   "source": [
    "import cv2 \n",
    "import time "
   ]
  },
  {
   "cell_type": "code",
   "execution_count": 5,
   "metadata": {},
   "outputs": [
    {
     "name": "stdout",
     "output_type": "stream",
     "text": [
      "4.2.0\n"
     ]
    }
   ],
   "source": [
    "print(cv2.__version__)   "
   ]
  },
  {
   "cell_type": "code",
   "execution_count": 6,
   "metadata": {},
   "outputs": [],
   "source": [
    "# taking video.mp4 as input. \n",
    "# Make your path according to your needs  \n",
    "capture_video = cv2.VideoCapture(\"video.mp4\") "
   ]
  },
  {
   "cell_type": "code",
   "execution_count": 7,
   "metadata": {},
   "outputs": [],
   "source": [
    "# give the camera to warm up \n",
    "time.sleep(1)  \n",
    "count = 0 \n",
    "background = 0 "
   ]
  },
  {
   "cell_type": "code",
   "execution_count": 8,
   "metadata": {},
   "outputs": [],
   "source": [
    "# capturing the background in range of 60 \n",
    "# you should have video that have some seconds \n",
    "# dedicated to background frame so that it  \n",
    "# could easily save the background image \n",
    "for i in range(60): \n",
    "    return_val, background = capture_video.read() \n",
    "    if return_val == False : \n",
    "        continue \n",
    "background = np.flip(background, axis = 1) # flipping of the frame  "
   ]
  },
  {
   "cell_type": "code",
   "execution_count": 9,
   "metadata": {},
   "outputs": [],
   "source": [
    "while (capture_video.isOpened()): \n",
    "    return_val, img = capture_video.read() \n",
    "    if not return_val : \n",
    "        break \n",
    "    count = count + 1\n",
    "    img = np.flip(img, axis = 1)\n",
    "    # converting BGR to HSV for better  \n",
    "    # detection or you can convert it to gray \n",
    "    hsv = cv2.cvtColor(img, cv2.COLOR_BGR2HSV)\n",
    "    # ranges should be carefully chosen \n",
    "    # setting the lower and upper range for mask1 \n",
    "    lower_red = np.array([0, 120, 50])\n",
    "    upper_red = np.array([10, 255,255])\n",
    "    mask1 = cv2.inRange(hsv, lower_red, upper_red)\n",
    "\n",
    "    lower_red = np.array([170, 120, 70])\n",
    "    upper_red = np.array([180, 255, 255])\n",
    "    mask2 = cv2.inRange(hsv, lower_red, upper_red)\n",
    "\n",
    "    mask1 = mask1 + mask2\n",
    "  \n",
    "    # Refining the mask corresponding to the detected red color \n",
    "    mask1 = cv2.morphologyEx(mask1, cv2.MORPH_OPEN, np.ones((3, 3), \n",
    "                                         np.uint8), iterations = 2) \n",
    "    mask1 = cv2.dilate(mask1, np.ones((3, 3), np.uint8), iterations = 1) \n",
    "    mask2 = cv2.bitwise_not(mask1)\n",
    "    res1 = cv2.bitwise_and(background, background, mask = mask1) \n",
    "    res2 = cv2.bitwise_and(img, img, mask = mask2) \n",
    "    final_output = cv2.addWeighted(res1, 1, res2, 1, 0)\n",
    "    cv2.imshow(\"INVISIBLE MAN\", final_output) \n",
    "    k = cv2.waitKey(10) \n",
    "    if k == 27: \n",
    "        break\n",
    "    "
   ]
  },
  {
   "cell_type": "code",
   "execution_count": null,
   "metadata": {},
   "outputs": [],
   "source": []
  },
  {
   "cell_type": "code",
   "execution_count": null,
   "metadata": {},
   "outputs": [],
   "source": []
  }
 ],
 "metadata": {
  "kernelspec": {
   "display_name": "Python 3",
   "language": "python",
   "name": "python3"
  },
  "language_info": {
   "codemirror_mode": {
    "name": "ipython",
    "version": 3
   },
   "file_extension": ".py",
   "mimetype": "text/x-python",
   "name": "python",
   "nbconvert_exporter": "python",
   "pygments_lexer": "ipython3",
   "version": "3.7.4"
  }
 },
 "nbformat": 4,
 "nbformat_minor": 4
}
